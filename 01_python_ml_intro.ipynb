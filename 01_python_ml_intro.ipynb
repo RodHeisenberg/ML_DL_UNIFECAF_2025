{
 "cells": [
  {
   "cell_type": "markdown",
   "id": "609c1ff6",
   "metadata": {},
   "source": [
    "# Python + Machine Learning — Guia Inicial (Notebook)\n",
    "\n",
    "**Atualizado:** 2025-08-22 10:59\n",
    "\n",
    "Bem-vindo(a)! Este notebook foi feito para quem está começando em **Python para Machine Learning**.\n",
    "A proposta é **prática e progressiva**: primeiro o essencial de Python/NumPy/pandas/Matplotlib; depois, o fluxo básico de ML com **scikit-learn** (classificação e regressão).\n",
    "\n",
    "> Dica: execute as células na ordem. Se estiver no Google Colab, vá em `Runtime > Run all` (Executar tudo) para testar tudo de uma vez."
   ]
  },
  {
   "cell_type": "markdown",
   "id": "7cbc62fd",
   "metadata": {},
   "source": [
    "## Como usar este notebook\n",
    "1. Execute cada célula (Shift+Enter).\n",
    "2. Se precisar, instale dependências (apenas se der erro de import).\n",
    "3. Leia os comentários no código e os blocos de texto explicativos antes de seguir."
   ]
  },
  {
   "cell_type": "markdown",
   "id": "d8bc720f",
   "metadata": {},
   "source": [
    "## (Opcional) Instalar/Atualizar dependências\n",
    "Se estiver no Colab ou em um ambiente novo e ocorrer erro de import, rode a célula abaixo **uma vez**:"
   ]
  },
  {
   "cell_type": "code",
   "execution_count": null,
   "id": "a88ccbe4",
   "metadata": {
    "execution": {}
   },
   "outputs": [],
   "source": [
    "# Rode SOMENTE se precisar\n",
    "# import sys\n",
    "# !{sys.executable} -m pip install -q -U numpy pandas matplotlib scikit-learn joblib"
   ]
  },
  {
   "cell_type": "markdown",
   "id": "b0abd377",
   "metadata": {},
   "source": [
    "## Verificando o ambiente\n",
    "Vamos checar as versões das principais bibliotecas."
   ]
  },
  {
   "cell_type": "code",
   "execution_count": null,
   "id": "f71303c8",
   "metadata": {
    "execution": {}
   },
   "outputs": [],
   "source": [
    "import sys, platform\n",
    "import numpy as np, pandas as pd, matplotlib, sklearn\n",
    "\n",
    "print(\"Python:\", sys.version.split()[0])\n",
    "print(\"OS:\", platform.platform())\n",
    "print(\"NumPy:\", np.__version__)\n",
    "print(\"pandas:\", pd.__version__)\n",
    "print(\"Matplotlib:\", matplotlib.__version__)\n",
    "print(\"scikit-learn:\", sklearn.__version__)"
   ]
  },
  {
   "cell_type": "markdown",
   "id": "12576281",
   "metadata": {},
   "source": [
    "---\n",
    "# 1. Python Básico para Ciência de Dados\n",
    "\n",
    "Aqui estão os blocos fundamentais de Python que você vai usar o tempo todo em ML:\n",
    "- Variáveis e tipos (int, float, str, bool)\n",
    "- Listas, dicionários e tuplas\n",
    "- Controle de fluxo (if/for)\n",
    "- Funções\n",
    "- Compreensões de listas (list comprehensions)"
   ]
  },
  {
   "cell_type": "code",
   "execution_count": null,
   "id": "1b8fba5c",
   "metadata": {
    "execution": {}
   },
   "outputs": [],
   "source": [
    "# Variáveis e tipos\n",
    "idade = 30              # int\n",
    "altura = 1.78           # float\n",
    "nome = \"Ana\"            # str\n",
    "ativo = True            # bool\n",
    "\n",
    "print(type(idade), type(altura), type(nome), type(ativo))\n",
    "\n",
    "# Listas\n",
    "notas = [7.5, 8.0, 6.5]\n",
    "notas.append(9.0)\n",
    "media = sum(notas) / len(notas)\n",
    "print(\"Notas:\", notas)\n",
    "print(\"Média:\", media)\n",
    "\n",
    "# Dicionários\n",
    "aluno = {\"nome\": \"Ana\", \"idade\": 21, \"curso\": \"DS\"}\n",
    "aluno[\"cidade\"] = \"Rio\"\n",
    "print(\"Aluno:\", aluno)\n",
    "print(\"Idade do aluno:\", aluno[\"idade\"])\n",
    "\n",
    "# If/for\n",
    "aprovado = media >= 7.0\n",
    "if aprovado:\n",
    "    print(\"Status: aprovado\")\n",
    "else:\n",
    "    print(\"Status: reprovado\")\n",
    "\n",
    "for i, n in enumerate(notas, start=1):\n",
    "    print(f\"Nota {i}: {n}\")\n",
    "\n",
    "# Funções\n",
    "def saudacao(pessoa, formal=False):\n",
    "    if formal:\n",
    "        return f\"Olá, {pessoa}. Seja bem-vindo(a).\"\n",
    "    return f\"Oi, {pessoa}!\"\n",
    "\n",
    "print(saudacao(\"Ana\"))\n",
    "print(saudacao(\"Ana\", formal=True))\n",
    "\n",
    "# Compreensão de listas\n",
    "pares = [x for x in range(10) if x % 2 == 0]\n",
    "print(\"Pares:\", pares)"
   ]
  },
  {
   "cell_type": "markdown",
   "id": "915782c5",
   "metadata": {},
   "source": [
    "---\n",
    "# 2. NumPy Essencial\n",
    "\n",
    "**NumPy** fornece arrays eficientes e operações vetorizadas (rápidas!).\n",
    "Conceitos principais:\n",
    "- `ndarray` (array N-dimensional)\n",
    "- `shape` (formato), `dtype` (tipo)\n",
    "- Slicing, broadcasting, operações matemáticas"
   ]
  },
  {
   "cell_type": "code",
   "execution_count": null,
   "id": "1a3b5118",
   "metadata": {
    "execution": {}
   },
   "outputs": [],
   "source": [
    "import numpy as np\n",
    "\n",
    "np.random.seed(42)\n",
    "\n",
    "a = np.array([1, 2, 3])\n",
    "b = np.array([[1.0, 2.0], [3.0, 4.0]])\n",
    "\n",
    "print(\"a:\", a, \"| shape:\", a.shape, \"| dtype:\", a.dtype)\n",
    "print(\"b:\\n\", b, \"\\nshape:\", b.shape, \"| dtype:\", b.dtype)\n",
    "\n",
    "# Operações vetorizadas\n",
    "c = a * 10\n",
    "print(\"a * 10 ->\", c)\n",
    "\n",
    "# Broadcasting: somar vetor a cada linha de uma matriz\n",
    "m = np.arange(6).reshape(3, 2)\n",
    "v = np.array([10, 100])\n",
    "print(\"m:\\n\", m)\n",
    "print(\"v:\", v)\n",
    "print(\"m + v:\\n\", m + v)\n",
    "\n",
    "# Estatísticas rápidas\n",
    "x = np.random.randn(1000)\n",
    "print(\"média:\", x.mean(), \"| desvio:\", x.std(), \"| min:\", x.min(), \"| max:\", x.max())"
   ]
  },
  {
   "cell_type": "markdown",
   "id": "61882a7a",
   "metadata": {},
   "source": [
    "---\n",
    "# 3. pandas Essencial\n",
    "\n",
    "**pandas** é a biblioteca para manipulação de dados em tabelas (DataFrames).\n",
    "Você vai usar para:\n",
    "- Ler dados (CSV, Excel, SQL, etc.)\n",
    "- Limpar, filtrar, transformar\n",
    "- Agregar e descrever"
   ]
  },
  {
   "cell_type": "code",
   "execution_count": null,
   "id": "78ac92d1",
   "metadata": {
    "execution": {}
   },
   "outputs": [],
   "source": [
    "import pandas as pd\n",
    "\n",
    "# Vamos criar e salvar um CSV simples para o exemplo\n",
    "df_exemplo = pd.DataFrame({\n",
    "    \"nome\": [\"Ana\", \"Bruno\", \"Carla\", \"Daniel\", \"Eva\"],\n",
    "    \"idade\": [21, 23, 22, None, 24],\n",
    "    \"nota\": [8.0, 7.5, 9.0, 6.0, 8.5],\n",
    "})\n",
    "csv_path = \"/mnt/data/exemplo.csv\"\n",
    "df_exemplo.to_csv(csv_path, index=False)\n",
    "\n",
    "# Ler o CSV\n",
    "dados = pd.read_csv(csv_path)\n",
    "print(\"Primeiras linhas:\")\n",
    "display(dados.head())\n",
    "\n",
    "print(\"\\nInfo:\")\n",
    "dados.info()\n",
    "\n",
    "print(\"\\nResumo estatístico:\")\n",
    "display(dados.describe(include=\"all\"))\n",
    "\n",
    "# Filtrando e tratando ausentes\n",
    "filtrado = dados[dados[\"nota\"] >= 8.0].copy()\n",
    "filtrado[\"idade\"] = filtrado[\"idade\"].fillna(filtrado[\"idade\"].median())\n",
    "print(\"\\nFiltrado (nota >= 8) e 'idade' preenchida:\")\n",
    "display(filtrado)"
   ]
  },
  {
   "cell_type": "markdown",
   "id": "943f0c65",
   "metadata": {},
   "source": [
    "---\n",
    "# 4. Visualização com Matplotlib\n",
    "\n",
    "Gráficos ajudam a entender os dados. Abaixo três exemplos simples:\n",
    "- Linha (série temporal fictícia)\n",
    "- Histograma\n",
    "- Dispersão (scatter)"
   ]
  },
  {
   "cell_type": "code",
   "execution_count": null,
   "id": "c65751b8",
   "metadata": {
    "execution": {}
   },
   "outputs": [],
   "source": [
    "import matplotlib.pyplot as plt\n",
    "import numpy as np\n",
    "\n",
    "# Série temporal fictícia\n",
    "valores = np.cumsum(np.random.randn(50))  # soma cumulativa\n",
    "plt.figure()\n",
    "plt.plot(valores)\n",
    "plt.title(\"Série temporal fictícia\")\n",
    "plt.xlabel(\"Índice\")\n",
    "plt.ylabel(\"Valor\")\n",
    "plt.show()"
   ]
  },
  {
   "cell_type": "code",
   "execution_count": null,
   "id": "c0e734f4",
   "metadata": {
    "execution": {}
   },
   "outputs": [],
   "source": [
    "import matplotlib.pyplot as plt\n",
    "import numpy as np\n",
    "\n",
    "# Histograma\n",
    "amostras = np.random.randn(500)\n",
    "plt.figure()\n",
    "plt.hist(amostras, bins=30)\n",
    "plt.title(\"Histograma de amostras\")\n",
    "plt.xlabel(\"Valor\")\n",
    "plt.ylabel(\"Frequência\")\n",
    "plt.show()"
   ]
  },
  {
   "cell_type": "code",
   "execution_count": null,
   "id": "ce519e3f",
   "metadata": {
    "execution": {}
   },
   "outputs": [],
   "source": [
    "import matplotlib.pyplot as plt\n",
    "import numpy as np\n",
    "\n",
    "# Dispersão (scatter) de duas features sintéticas\n",
    "x = np.random.randn(100)\n",
    "y = 2.0 * x + np.random.randn(100) * 0.5\n",
    "plt.figure()\n",
    "plt.scatter(x, y)\n",
    "plt.title(\"Dispersão (x vs y)\")\n",
    "plt.xlabel(\"x\")\n",
    "plt.ylabel(\"y\")\n",
    "plt.show()"
   ]
  },
  {
   "cell_type": "markdown",
   "id": "a862cd27",
   "metadata": {},
   "source": [
    "---\n",
    "# 5. Fundamentos de Machine Learning com scikit-learn\n",
    "\n",
    "**Fluxo típico:**\n",
    "1. Carregar/Preparar os dados\n",
    "2. Dividir em treino e teste\n",
    "3. Escolher um modelo\n",
    "4. Treinar (fit)\n",
    "5. Avaliar (predict + métricas)\n",
    "6. (Opcional) Ajustar hiperparâmetros e validar\n",
    "\n",
    "Você verá um exemplo de **classificação** (Iris) e outro de **regressão** (Diabetes)."
   ]
  },
  {
   "cell_type": "markdown",
   "id": "8ec6e799",
   "metadata": {},
   "source": [
    "## 5.1 Classificação (Iris) com K-Nearest Neighbors\n",
    "\n",
    "- Dataset: **Iris** (flores, 3 classes) embutido no scikit-learn\n",
    "- Modelo: **KNN**\n",
    "- Boas práticas: `train_test_split`, `Pipeline`, `StandardScaler`"
   ]
  },
  {
   "cell_type": "code",
   "execution_count": null,
   "id": "63ef2bf4",
   "metadata": {
    "execution": {}
   },
   "outputs": [],
   "source": [
    "from sklearn.datasets import load_iris\n",
    "from sklearn.model_selection import train_test_split, cross_val_score\n",
    "from sklearn.preprocessing import StandardScaler\n",
    "from sklearn.neighbors import KNeighborsClassifier\n",
    "from sklearn.pipeline import Pipeline\n",
    "from sklearn.metrics import accuracy_score, confusion_matrix, classification_report\n",
    "\n",
    "# 1) Carregar dados\n",
    "iris = load_iris()\n",
    "X, y = iris.data, iris.target\n",
    "print(\"Formato X:\", X.shape, \"| Formato y:\", y.shape)\n",
    "\n",
    "# 2) Dividir\n",
    "X_train, X_test, y_train, y_test = train_test_split(\n",
    "    X, y, test_size=0.2, random_state=42, stratify=y\n",
    ")\n",
    "\n",
    "# 3) Pipeline (padronizar + KNN)\n",
    "pipe_knn = Pipeline([\n",
    "    (\"scaler\", StandardScaler()),\n",
    "    (\"knn\", KNeighborsClassifier(n_neighbors=5))\n",
    "])\n",
    "\n",
    "# 4) Treinar\n",
    "pipe_knn.fit(X_train, y_train)\n",
    "\n",
    "# 5) Avaliar\n",
    "y_pred = pipe_knn.predict(X_test)\n",
    "acc = accuracy_score(y_test, y_pred)\n",
    "print(\"Acurácia:\", round(acc, 4))\n",
    "print(\"\\nMatriz de confusão:\\n\", confusion_matrix(y_test, y_pred))\n",
    "print(\"\\nRelatório de classificação:\\n\", classification_report(y_test, y_pred, target_names=iris.target_names))\n",
    "\n",
    "# 6) Validação cruzada rápida no treino\n",
    "cv_scores = cross_val_score(pipe_knn, X_train, y_train, cv=5)\n",
    "print(\"CV média (treino):\", cv_scores.mean().round(4), \"| desv:\", cv_scores.std().round(4))"
   ]
  },
  {
   "cell_type": "code",
   "execution_count": null,
   "id": "b997665d",
   "metadata": {
    "execution": {}
   },
   "outputs": [],
   "source": [
    "import matplotlib.pyplot as plt\n",
    "import numpy as np\n",
    "\n",
    "# Scatter de duas features para visualização (petal length vs petal width)\n",
    "plt.figure()\n",
    "plt.scatter(X[:, 2], X[:, 3], c=y)\n",
    "plt.xlabel(\"petal length\")\n",
    "plt.ylabel(\"petal width\")\n",
    "plt.title(\"Iris — Scatter de duas features (cores = classes)\")\n",
    "plt.show()"
   ]
  },
  {
   "cell_type": "markdown",
   "id": "ea7021a3",
   "metadata": {},
   "source": [
    "## 5.2 Regressão (Diabetes) com Linear Regression\n",
    "\n",
    "- Dataset: **Diabetes** embutido no scikit-learn (alvo numérico)\n",
    "- Modelo: **Regressão Linear**\n",
    "- Métricas: **MAE**, **MSE**, **R²**"
   ]
  },
  {
   "cell_type": "code",
   "execution_count": null,
   "id": "ea8d580f",
   "metadata": {
    "execution": {}
   },
   "outputs": [],
   "source": [
    "from sklearn.datasets import load_diabetes\n",
    "from sklearn.model_selection import train_test_split\n",
    "from sklearn.preprocessing import StandardScaler\n",
    "from sklearn.pipeline import Pipeline\n",
    "from sklearn.linear_model import LinearRegression\n",
    "from sklearn.metrics import mean_absolute_error, mean_squared_error, r2_score\n",
    "\n",
    "# 1) Carregar\n",
    "diab = load_diabetes()\n",
    "X, y = diab.data, diab.target\n",
    "print(\"Formato X:\", X.shape, \"| Formato y:\", y.shape)\n",
    "\n",
    "# 2) Split\n",
    "X_train, X_test, y_train, y_test = train_test_split(\n",
    "    X, y, test_size=0.2, random_state=42\n",
    ")\n",
    "\n",
    "# 3) Pipeline regressão\n",
    "pipe_lr = Pipeline([\n",
    "    (\"scaler\", StandardScaler()),\n",
    "    (\"lr\", LinearRegression())\n",
    "])\n",
    "\n",
    "# 4) Treinar\n",
    "pipe_lr.fit(X_train, y_train)\n",
    "\n",
    "# 5) Avaliar\n",
    "y_pred = pipe_lr.predict(X_test)\n",
    "mae = mean_absolute_error(y_test, y_pred)\n",
    "mse = mean_squared_error(y_test, y_pred)\n",
    "r2  = r2_score(y_test, y_pred)\n",
    "\n",
    "print(\"MAE:\", round(mae, 3))\n",
    "print(\"MSE:\", round(mse, 3))\n",
    "print(\"R² :\", round(r2 , 3))"
   ]
  },
  {
   "cell_type": "code",
   "execution_count": null,
   "id": "c3f4d22f",
   "metadata": {
    "execution": {}
   },
   "outputs": [],
   "source": [
    "import matplotlib.pyplot as plt\n",
    "\n",
    "plt.figure()\n",
    "plt.scatter(y_test, y_pred)\n",
    "plt.xlabel(\"Real (y_test)\")\n",
    "plt.ylabel(\"Previsto (y_pred)\")\n",
    "plt.title(\"Regressão (Diabetes): Real vs Previsto\")\n",
    "plt.show()"
   ]
  },
  {
   "cell_type": "markdown",
   "id": "cadc5d28",
   "metadata": {},
   "source": [
    "---\n",
    "# 6. Salvando e Carregando Modelos\n",
    "\n",
    "> Você pode treinar localmente e salvar o modelo para reuso/produção."
   ]
  },
  {
   "cell_type": "code",
   "execution_count": null,
   "id": "e12d0e32",
   "metadata": {
    "execution": {}
   },
   "outputs": [],
   "source": [
    "import joblib, os\n",
    "\n",
    "model_path = \"/mnt/data/modelo_knn_iris.joblib\"\n",
    "joblib.dump(pipe_knn, model_path)\n",
    "print(\"Modelo salvo em:\", model_path)\n",
    "\n",
    "# Carregar e testar rapidamente\n",
    "modelo_carregado = joblib.load(model_path)\n",
    "print(\"Predição (amostra X_test[0]):\", modelo_carregado.predict([X_test[0]]))"
   ]
  },
  {
   "cell_type": "markdown",
   "id": "f7c794e8",
   "metadata": {},
   "source": [
    "---\n",
    "# 7. Exercícios (Prática)\n",
    "\n",
    "1. **pandas:** Carregue o arquivo CSV salvo (`/mnt/data/exemplo.csv`) e crie uma nova coluna `faixa_etaria` com base em faixas (<=21, 22-23, >=24). Conte quantos registros há por faixa.\n",
    "2. **NumPy:** Gere 1.000 amostras de uma normal padrão e calcule média, desvio, percentis (5º, 50º, 95º). Plote um histograma.\n",
    "3. **Matplotlib:** Com os dados do Iris, faça um `scatter` das features `sepal length` e `sepal width` colorindo por classe.\n",
    "4. **Classificação:** No KNN, teste diferentes valores de `n_neighbors` (3, 5, 7, 9). Qual teve melhor acurácia média em validação cruzada?\n",
    "5. **Regressão:** Troque `LinearRegression` por `Ridge` e `Lasso`. Compare o R² no conjunto de teste.\n",
    "6. **Pipeline + GridSearch:** Faça `GridSearchCV` variando `n_neighbors` e (opcional) pesos (`uniform` vs `distance`). Reporte o melhor parâmetro e score."
   ]
  },
  {
   "cell_type": "markdown",
   "id": "db948cad",
   "metadata": {},
   "source": [
    "---\n",
    "# 8. Próximos Passos\n",
    "\n",
    "- Entender melhor **feature engineering** (criação e seleção de variáveis)\n",
    "- Balanceamento de classes, validação avançada, **regularização**\n",
    "- **Pipelines** de pré-processamento mais ricos (OneHotEncoder, ColumnTransformer)\n",
    "- Modelos adicionais: Árvores, Random Forest, Gradient Boosting, SVM, Regressão Logística\n",
    "- **Deploy**: FastAPI/Streamlit, Docker, e CI/CD\n",
    "\n",
    "Bom estudo! 🚀"
   ]
  }
 ],
 "metadata": {
  "kernelspec": {
   "display_name": "Python 3",
   "language": "python",
   "name": "python3"
  },
  "language_info": {
   "name": "python",
   "version": "3.11.8"
  }
 },
 "nbformat": 4,
 "nbformat_minor": 5
}

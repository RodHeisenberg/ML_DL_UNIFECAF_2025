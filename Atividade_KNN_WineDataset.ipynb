{
 "cells": [
  {
   "cell_type": "markdown",
   "id": "57113cf9",
   "metadata": {},
   "source": [
    "# 🧪 Atividade Prática - KNN com Wine Dataset\n",
    "\n",
    "Bem-vindo à sua atividade prática! Hoje, vamos aplicar o algoritmo **KNN (K-Nearest Neighbors)** no famoso dataset **Wine**, que contém características químicas de diferentes vinhos cultivados na Itália. Você irá realizar experimentos e refletir sobre como o KNN se comporta em diferentes cenários."
   ]
  },
  {
   "cell_type": "markdown",
   "id": "185e2de3",
   "metadata": {},
   "source": [
    "## 📚 Estudo de Caso\n",
    "O Instituto de Vinhos da Toscana deseja criar um sistema que classifique automaticamente os vinhos com base em suas propriedades químicas. Para isso, você foi contratado como cientista de dados responsável por aplicar e avaliar o algoritmo KNN.\n",
    "\n",
    "Seu objetivo é treinar o modelo com um conjunto de amostras de vinho e prever a classe dos vinhos desconhecidos. Você também deverá analisar o impacto da normalização dos dados e da variação do parâmetro `K`.\n",
    "\n",
    "Vamos começar? 🍷"
   ]
  },
  {
   "cell_type": "code",
   "execution_count": null,
   "id": "ed4a8715",
   "metadata": {},
   "outputs": [],
   "source": [
    "from sklearn.datasets import load_wine\n",
    "from sklearn.model_selection import train_test_split\n",
    "from sklearn.preprocessing import StandardScaler\n",
    "from sklearn.neighbors import KNeighborsClassifier\n",
    "from sklearn.metrics import accuracy_score, confusion_matrix\n",
    "import matplotlib.pyplot as plt\n",
    "import seaborn as sns\n",
    "import pandas as pd"
   ]
  },
  {
   "cell_type": "code",
   "execution_count": null,
   "id": "091444a0",
   "metadata": {},
   "outputs": [],
   "source": [
    "# Carregando o dataset Wine\n",
    "wine = load_wine()\n",
    "X = wine.data\n",
    "y = wine.target\n",
    "\n",
    "# Visualizando as primeiras amostras\n",
    "df_wine = pd.DataFrame(X, columns=wine.feature_names)\n",
    "df_wine['target'] = y\n",
    "df_wine.head()"
   ]
  },
  {
   "cell_type": "code",
   "execution_count": null,
   "id": "1925bbb2",
   "metadata": {},
   "outputs": [],
   "source": [
    "# Normalizando os dados\n",
    "scaler = StandardScaler()\n",
    "X_scaled = scaler.fit_transform(X)\n",
    "\n",
    "# Dividindo entre treino e teste\n",
    "X_train, X_test, y_train, y_test = train_test_split(X_scaled, y, test_size=0.3, random_state=42)"
   ]
  },
  {
   "cell_type": "code",
   "execution_count": null,
   "id": "e3cb7740",
   "metadata": {},
   "outputs": [],
   "source": [
    "# Treinando o modelo KNN\n",
    "knn = KNeighborsClassifier(n_neighbors=5)\n",
    "knn.fit(X_train, y_train)\n",
    "\n",
    "# Previsões\n",
    "y_pred = knn.predict(X_test)\n",
    "\n",
    "# Acurácia\n",
    "acc = accuracy_score(y_test, y_pred)\n",
    "print('Acurácia do KNN com Wine Dataset:', acc)"
   ]
  },
  {
   "cell_type": "code",
   "execution_count": null,
   "id": "07796b28",
   "metadata": {},
   "outputs": [],
   "source": [
    "# Matriz de confusão\n",
    "cm = confusion_matrix(y_test, y_pred)\n",
    "sns.heatmap(cm, annot=True, cmap='Purples', fmt='d',\n",
    "            xticklabels=wine.target_names,\n",
    "            yticklabels=wine.target_names)\n",
    "plt.title('Matriz de Confusão - KNN (Wine Dataset)')\n",
    "plt.xlabel('Previsto')\n",
    "plt.ylabel('Real')\n",
    "plt.show()"
   ]
  },
  {
   "cell_type": "markdown",
   "id": "321d50cf",
   "metadata": {},
   "source": [
    "## 🧪 Experimentos Propostos\n",
    "Agora é com você! Realize os seguintes testes:\n",
    "\n",
    "1. **Variação do número de vizinhos**:\n",
    "   - Altere o parâmetro `n_neighbors` para 1, 3, 7, 11 e observe o impacto na acurácia e matriz de confusão.\n",
    "\n",
    "2. **Remoção da normalização**:\n",
    "   - Execute o mesmo processo **sem usar o `StandardScaler`** e compare os resultados.\n",
    "\n",
    "3. **Reflexão**:\n",
    "   - Qual configuração teve melhor desempenho?\n",
    "   - A ausência de normalização impactou o resultado?\n",
    "   - Qual valor de `k` apresentou melhor equilíbrio entre acurácia e simplicidade?\n",
    "\n",
    "💡 Anote suas observações abaixo."
   ]
  },
  {
   "cell_type": "markdown",
   "id": "0778fa55",
   "metadata": {},
   "source": [
    "### 📝 Suas Observações:\n",
    "- Resultado com K=1: \n",
    "- Resultado com K=3: \n",
    "- Resultado com K=7: \n",
    "- Resultado com K=11: \n",
    "- Resultado sem normalização: \n",
    "- Conclusão: \n"
   ]
  }
 ],
 "metadata": {},
 "nbformat": 4,
 "nbformat_minor": 5
}
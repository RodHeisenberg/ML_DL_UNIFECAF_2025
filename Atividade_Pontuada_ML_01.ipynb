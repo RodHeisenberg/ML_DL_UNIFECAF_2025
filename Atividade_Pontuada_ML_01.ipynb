{
  "cells": [
    {
      "cell_type": "markdown",
      "id": "38e0093b",
      "metadata": {
        "id": "38e0093b"
      },
      "source": [
        "\n",
        "# Estudo de Caso – Predição de Falhas em Máquinas (Manutenção Preditiva)\n",
        "Professor Rodrigo – UniFECAF  \n",
        "Disciplina: Machine Learning e Deep Learning  \n",
        "Formato: dupla ou trio • Tempo total estimado: ~2 horas\n",
        "\n",
        "## Contexto\n",
        "O Datacenter UniFECAF opera servidores e dispositivos de rede críticos. Falhas inesperadas geram indisponibilidade, perda de dados e custo.\n",
        "Seu time foi contratado para construir um piloto de manutenção preditiva usando Machine Learning, prevendo falhas a partir de dados de sensores.\n",
        "\n",
        "Objetivo: construir um pipeline simples e funcional para prever falhas (classificação binária), priorizando recall (reduzir falsos negativos).\n"
      ]
    },
    {
      "cell_type": "markdown",
      "id": "315857a9",
      "metadata": {
        "id": "315857a9"
      },
      "source": [
        "\n",
        "## Dataset (download e upload manual)\n",
        "Usaremos o dataset público AI4I 2020 Predictive Maintenance (UCI Repository).\n",
        "\n",
        "Baixe o CSV no site oficial da UCI:  \n",
        "https://archive.ics.uci.edu/dataset/601/ai4i+2020+predictive+maintenance+dataset\n",
        "\n",
        "Após baixar no seu computador, faça o upload do arquivo .csv na célula abaixo.\n"
      ]
    },
    {
      "cell_type": "code",
      "execution_count": null,
      "id": "bc1bf331",
      "metadata": {
        "id": "bc1bf331"
      },
      "outputs": [],
      "source": [
        "\n",
        "# Upload do arquivo CSV para o Colab\n",
        "from google.colab import files\n",
        "import io, pandas as pd\n",
        "\n",
        "print(\"Selecione o arquivo CSV baixado do site da UCI (ex.: ai4i2020.csv)\")\n",
        "uploaded = files.upload()\n",
        "\n",
        "# Pega o primeiro arquivo enviado\n",
        "filename = next(iter(uploaded))\n",
        "df = pd.read_csv(io.BytesIO(uploaded[filename]))\n",
        "\n",
        "# Normaliza cabeçalhos\n",
        "df.columns = [c.strip() for c in df.columns]\n",
        "\n",
        "print(\"Arquivo carregado:\", filename)\n",
        "df.head()\n"
      ]
    },
    {
      "cell_type": "markdown",
      "id": "14ab6d5a",
      "metadata": {
        "id": "14ab6d5a"
      },
      "source": [
        "\n",
        "## Revisão rápida – Pipeline de Machine Learning\n",
        "1. Coleta de dados → 2. Exploração (EDA) → 3. Pré-processamento → 4. Treinamento → 5. Avaliação → 6. Recomendação\n",
        "\n",
        "Pergunta (responda em texto): Em qual etapa você imagina que gastaremos mais tempo hoje e por quê?\n"
      ]
    },
    {
      "cell_type": "markdown",
      "id": "255be305",
      "metadata": {
        "id": "255be305"
      },
      "source": [
        "Escreva sua resposta aqui nesta célula"
      ]
    },
    {
      "cell_type": "markdown",
      "id": "08574fd7",
      "metadata": {
        "id": "08574fd7"
      },
      "source": [
        "\n",
        "## Exploração dos Dados (EDA)\n",
        "Vamos entender o conjunto de dados, tipos de colunas e estatísticas básicas.\n"
      ]
    },
    {
      "cell_type": "code",
      "execution_count": null,
      "id": "9506e0af",
      "metadata": {
        "id": "9506e0af"
      },
      "outputs": [],
      "source": [
        "df.info()"
      ]
    },
    {
      "cell_type": "code",
      "execution_count": null,
      "id": "721840bf",
      "metadata": {
        "id": "721840bf"
      },
      "outputs": [],
      "source": [
        "df.describe(include='all')"
      ]
    },
    {
      "cell_type": "code",
      "execution_count": null,
      "id": "69a73cbd",
      "metadata": {
        "id": "69a73cbd"
      },
      "outputs": [],
      "source": [
        "list(df.columns)"
      ]
    },
    {
      "cell_type": "markdown",
      "id": "f48de623",
      "metadata": {
        "id": "f48de623"
      },
      "source": [
        "\n",
        "### Checagem das colunas necessárias\n",
        "Usaremos apenas as colunas abaixo (sem vazamento de informação):\n",
        "- Type\n",
        "- Air temperature [K]\n",
        "- Process temperature [K]\n",
        "- Rotational speed [rpm]\n",
        "- Torque [Nm]\n",
        "- Tool wear [min]\n",
        "- Alvo: Machine failure (0 = normal, 1 = falha)\n",
        "\n",
        "Execute a célula de validação a seguir.\n"
      ]
    },
    {
      "cell_type": "code",
      "execution_count": null,
      "id": "1d1e2644",
      "metadata": {
        "id": "1d1e2644"
      },
      "outputs": [],
      "source": [
        "\n",
        "# Validação de colunas esperadas\n",
        "expected = [\n",
        "    'Type',\n",
        "    'Air temperature [K]',\n",
        "    'Process temperature [K]',\n",
        "    'Rotational speed [rpm]',\n",
        "    'Torque [Nm]',\n",
        "    'Tool wear [min]',\n",
        "    'Machine failure'\n",
        "]\n",
        "\n",
        "present = set(df.columns)\n",
        "missing = [c for c in expected if c not in present]\n",
        "\n",
        "if missing:\n",
        "    print(\"Colunas ausentes no seu CSV:\", missing)\n",
        "    print(\"Verifique se você baixou o arquivo correto do site da UCI.\")\n",
        "else:\n",
        "    print(\"Todas as colunas necessárias estão presentes.\")\n"
      ]
    },
    {
      "cell_type": "markdown",
      "id": "a3e1f47b",
      "metadata": {
        "id": "a3e1f47b"
      },
      "source": [
        "### Proporção de falhas"
      ]
    },
    {
      "cell_type": "code",
      "execution_count": null,
      "id": "f8294b46",
      "metadata": {
        "id": "f8294b46"
      },
      "outputs": [],
      "source": [
        "\n",
        "# Proporção das classes (0 = normal, 1 = falha)\n",
        "prop = df['Machine failure'].value_counts(normalize=True).rename({0: 'normal', 1: 'falha'})\n",
        "print(\"Proporção das classes:\")\n",
        "display(prop)\n"
      ]
    },
    {
      "cell_type": "markdown",
      "id": "5cca214d",
      "metadata": {
        "id": "5cca214d"
      },
      "source": [
        "\n",
        "Perguntas rápidas:  \n",
        "1) O dataset está balanceado? Por que isso importa?  \n",
        "2) Qual métrica você imagina ser mais importante aqui: accuracy ou recall? Explique.\n"
      ]
    },
    {
      "cell_type": "markdown",
      "id": "27dde911",
      "metadata": {
        "id": "27dde911"
      },
      "source": [
        "Escreva suas respostas aqui"
      ]
    },
    {
      "cell_type": "markdown",
      "id": "3e38f933",
      "metadata": {
        "id": "3e38f933"
      },
      "source": [
        "\n",
        "## Pré-processamento\n",
        "- Selecionar features seguras (sem TWF/HDF/PWF/OSF/RNF).  \n",
        "- One-Hot Encoding em Type.  \n",
        "- Split treino/teste estratificado para manter a proporção de classes.\n"
      ]
    },
    {
      "cell_type": "code",
      "execution_count": null,
      "id": "065a7699",
      "metadata": {
        "id": "065a7699"
      },
      "outputs": [],
      "source": [
        "\n",
        "import pandas as pd\n",
        "from sklearn.model_selection import train_test_split\n",
        "\n",
        "features = [\n",
        "    'Type',\n",
        "    'Air temperature [K]',\n",
        "    'Process temperature [K]',\n",
        "    'Rotational speed [rpm]',\n",
        "    'Torque [Nm]',\n",
        "    'Tool wear [min]'\n",
        "]\n",
        "\n",
        "X = df[features].copy()\n",
        "y = df['Machine failure'].astype(int).copy()\n",
        "\n",
        "# One-Hot Encoding\n",
        "X = pd.get_dummies(X, columns=['Type'], drop_first=True)\n",
        "\n",
        "# Split estratificado\n",
        "X_train, X_test, y_train, y_test = train_test_split(\n",
        "    X, y, test_size=0.30, random_state=42, stratify=y\n",
        ")\n",
        "\n",
        "print(\"Shapes -> X_train:\", X_train.shape, \"| X_test:\", X_test.shape)\n",
        "print(\"Proporção de falhas - treino:\", y_train.mean().round(4), \"| teste:\", y_test.mean().round(4))\n",
        "X_train.head()\n"
      ]
    },
    {
      "cell_type": "markdown",
      "id": "743d484e",
      "metadata": {
        "id": "743d484e"
      },
      "source": [
        "\n",
        "## Modelagem e métricas\n",
        "Treinaremos dois modelos e avaliaremos explicitamente as seguintes métricas:\n",
        "\n",
        "- Accuracy: % de acertos no total. Pode enganar em dados desbalanceados.  \n",
        "- Precision: dos que o modelo disse “falha”, quantos realmente eram falha.  \n",
        "- Recall (sensibilidade): dos que eram falha, quantos o modelo detectou (evita falso negativo).  \n",
        "- F1-score: média harmônica de Precision e Recall (equilíbrio).  \n",
        "- ROC-AUC: capacidade de ranquear positivos acima dos negativos.  \n",
        "- RMSE (educacional aqui): raiz do erro quadrático médio entre probabilidade prevista e rótulo real (0/1). Não é comum em classificação, mas ajuda a discutir erros de probabilidade.\n"
      ]
    },
    {
      "cell_type": "code",
      "execution_count": null,
      "id": "69c5d29e",
      "metadata": {
        "id": "69c5d29e"
      },
      "outputs": [],
      "source": [
        "\n",
        "from sklearn.linear_model import LogisticRegression\n",
        "from sklearn.ensemble import RandomForestClassifier\n",
        "from sklearn.metrics import (\n",
        "    accuracy_score, precision_score, recall_score, f1_score,\n",
        "    confusion_matrix, ConfusionMatrixDisplay, classification_report,\n",
        "    roc_auc_score, RocCurveDisplay\n",
        ")\n",
        "import numpy as np\n",
        "import matplotlib.pyplot as plt\n",
        "\n",
        "# Modelos\n",
        "logreg = LogisticRegression(max_iter=200, class_weight='balanced', random_state=42)\n",
        "rf = RandomForestClassifier(n_estimators=300, class_weight='balanced', n_jobs=-1, random_state=42)\n",
        "\n",
        "logreg.fit(X_train, y_train)\n",
        "rf.fit(X_train, y_train)\n",
        "\n",
        "def avaliar_modelo(model, nome):\n",
        "    print(f\"\\n=== {nome} ===\")\n",
        "    y_pred = model.predict(X_test)\n",
        "    print(classification_report(y_test, y_pred, digits=4))\n",
        "\n",
        "    # Métricas explícitas (classe positiva = 1)\n",
        "    acc = accuracy_score(y_test, y_pred)\n",
        "    prec = precision_score(y_test, y_pred, zero_division=0)\n",
        "    rec = recall_score(y_test, y_pred, zero_division=0)\n",
        "    f1 = f1_score(y_test, y_pred, zero_division=0)\n",
        "    print(f\"Accuracy: {acc:.4f} | Precision: {prec:.4f} | Recall: {rec:.4f} | F1: {f1:.4f}\")\n",
        "\n",
        "    # Matriz de confusão\n",
        "    cm = confusion_matrix(y_test, y_pred)\n",
        "    ConfusionMatrixDisplay(cm).plot()\n",
        "    plt.title(f\"{nome} - Matriz de Confusão (Teste)\")\n",
        "    plt.show()\n",
        "\n",
        "    # ROC-AUC e Curva ROC\n",
        "    if hasattr(model, \"predict_proba\"):\n",
        "        y_score = model.predict_proba(X_test)[:, 1]\n",
        "        auc = roc_auc_score(y_test, y_score)\n",
        "        print(f\"ROC-AUC: {auc:.4f}\")\n",
        "        RocCurveDisplay.from_predictions(y_test, y_score)\n",
        "        plt.title(f\"{nome} - Curva ROC (Teste)\")\n",
        "        plt.show()\n",
        "\n",
        "        # RMSE educacional (probabilidade vs rótulo)\n",
        "        rmse = np.sqrt(np.mean((y_score - y_test.values)**2))\n",
        "        print(f\"RMSE (probabilidade vs rótulo): {rmse:.4f}\")\n",
        "    else:\n",
        "        print(\"Modelo não fornece predict_proba; AUC e RMSE não serão calculados.\")\n",
        "\n",
        "avaliar_modelo(logreg, \"Regressão Logística\")\n",
        "avaliar_modelo(rf, \"Random Forest\")\n"
      ]
    },
    {
      "cell_type": "markdown",
      "id": "3fb3590e",
      "metadata": {
        "id": "3fb3590e"
      },
      "source": [
        "\n",
        "### Compare os modelos\n",
        "1) Qual modelo apresentou maior recall?  \n",
        "2) Por que recall é importante para manutenção preditiva?  \n",
        "3) Se você fosse gestor de TI, qual modelo implantaria e por quê?\n"
      ]
    },
    {
      "cell_type": "markdown",
      "id": "a0972d0d",
      "metadata": {
        "id": "a0972d0d"
      },
      "source": [
        "Escreva suas respostas aqui"
      ]
    },
    {
      "cell_type": "markdown",
      "id": "e38988aa",
      "metadata": {
        "id": "e38988aa"
      },
      "source": [
        "\n",
        "## Reflexão final do grupo (preenchimento obrigatório)\n",
        "Dificuldades encontradas:  \n",
        "- ...\n",
        "\n",
        "O que aprendemos:  \n",
        "- ...\n",
        "\n",
        "Como isso se conecta à TI corporativa (servidores, roteadores, storage):  \n",
        "- ...\n"
      ]
    }
  ],
  "metadata": {
    "colab": {
      "provenance": []
    },
    "kernelspec": {
      "display_name": "Python 3",
      "language": "python",
      "name": "python3"
    }
  },
  "nbformat": 4,
  "nbformat_minor": 5
}
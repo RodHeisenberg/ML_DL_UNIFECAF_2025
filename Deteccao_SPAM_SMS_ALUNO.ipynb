{
 "cells": [
  {
   "cell_type": "markdown",
   "id": "3e575baa",
   "metadata": {},
   "source": [
    "\n",
    "# 📱 Estudo de Caso – Detecção de SPAM em SMS (Classificação de Texto)\n",
    "**Professor Rodrigo – UniFECAF** • **Duração:** ~2h • **Trabalho:** dupla/trio\n",
    "\n",
    "## 🎯 Objetivo\n",
    "Construir um pipeline de **Machine Learning para NLP clássico** que classifica mensagens SMS como **SPAM** ou **HAM (legítima)**.\n",
    "\n",
    "- Revisar o **pipeline** de ML (Aulas 01–02).\n",
    "- Praticar **pré-processamento** de texto e **vetorização** (TF-IDF).\n",
    "- Treinar e avaliar modelos (Naive Bayes, Regressão Logística).\n",
    "- Métricas: **Accuracy, Precision, Recall, F1, ROC-AUC** e **RMSE educacional** (probabilidade vs rótulo).\n"
   ]
  },
  {
   "cell_type": "markdown",
   "id": "7e59de0f",
   "metadata": {},
   "source": [
    "\n",
    "## 📂 Dataset (download e upload manual)\n",
    "Usaremos o **SMS Spam Collection** (UCI Repository).\n",
    "\n",
    "🔗 Baixe pelo site oficial da UCI:  \n",
    "https://archive.ics.uci.edu/dataset/228/sms+spam+collection\n",
    "\n",
    "> O arquivo costuma se chamar **`SMSSpamCollection`** (texto separado por **TAB**, duas colunas: `label` e `text`).  \n",
    "> Depois de baixar, **faça o upload** do arquivo na célula abaixo.\n"
   ]
  },
  {
   "cell_type": "code",
   "execution_count": null,
   "id": "7c6af18b",
   "metadata": {},
   "outputs": [],
   "source": [
    "\n",
    "# 📥 Upload do arquivo da UCI (ex.: SMSSpamCollection)\n",
    "from google.colab import files\n",
    "import io, pandas as pd\n",
    "\n",
    "print(\"Selecione o arquivo 'SMSSpamCollection' baixado da UCI\")\n",
    "uploaded = files.upload()\n",
    "\n",
    "filename = next(iter(uploaded))\n",
    "\n",
    "# Tenta ler com header inexistente (duas colunas: label, text)\n",
    "try:\n",
    "    df = pd.read_csv(io.BytesIO(uploaded[filename]), sep='\\t', header=None, names=['label','text'], encoding='utf-8')\n",
    "except Exception as e:\n",
    "    print(\"Falha no parse padrão (tab). Tentando outras variações...\", e)\n",
    "    df = pd.read_csv(io.BytesIO(uploaded[filename]), sep='\\t', encoding_errors='ignore', header=None, names=['label','text'])\n",
    "\n",
    "print(\"Amostra:\")\n",
    "df.head()\n"
   ]
  },
  {
   "cell_type": "markdown",
   "id": "173a18c2",
   "metadata": {},
   "source": [
    "\n",
    "## 1️⃣ Revisão rápida – Pipeline de ML\n",
    "1. Coleta de dados → 2. EDA → 3. Pré-processamento → 4. Treinamento → 5. Avaliação → 6. Recomendação\n",
    "\n",
    "**Pergunta (responda em texto):** Em qual etapa você imagina que gastaremos mais tempo hoje e por quê?\n"
   ]
  },
  {
   "cell_type": "markdown",
   "id": "5e995e42",
   "metadata": {},
   "source": [
    "*Escreva sua resposta aqui*"
   ]
  },
  {
   "cell_type": "markdown",
   "id": "ae45b029",
   "metadata": {},
   "source": [
    "\n",
    "## 2️⃣ EDA – Exploração de Dados\n",
    "Vamos entender a base: quantidade, balanceamento, tamanho dos textos.\n"
   ]
  },
  {
   "cell_type": "code",
   "execution_count": null,
   "id": "8ca8b776",
   "metadata": {},
   "outputs": [],
   "source": [
    "\n",
    "# Informações gerais\n",
    "df.info()\n"
   ]
  },
  {
   "cell_type": "code",
   "execution_count": null,
   "id": "e70fddc4",
   "metadata": {},
   "outputs": [],
   "source": [
    "\n",
    "# Distribuição de classes\n",
    "prop = df['label'].value_counts(normalize=True)\n",
    "prop\n"
   ]
  },
  {
   "cell_type": "code",
   "execution_count": null,
   "id": "0f388d55",
   "metadata": {},
   "outputs": [],
   "source": [
    "\n",
    "# Tamanho dos textos (número de caracteres) - visão rápida\n",
    "import matplotlib.pyplot as plt\n",
    "\n",
    "df['len'] = df['text'].astype(str).str.len()\n",
    "print(df['len'].describe())\n",
    "plt.figure()\n",
    "df['len'].hist(bins=30)\n",
    "plt.title(\"Distribuição do tamanho das mensagens (caracteres)\")\n",
    "plt.xlabel(\"nº de caracteres\"); plt.ylabel(\"freq.\")\n",
    "plt.show()\n"
   ]
  },
  {
   "cell_type": "markdown",
   "id": "d4ecf140",
   "metadata": {},
   "source": [
    "\n",
    "**Perguntas rápidas:**\n",
    "1. A base é balanceada? O que isso significa para **accuracy**?  \n",
    "2. Mensagens de spam tendem a ser maiores ou menores?\n"
   ]
  },
  {
   "cell_type": "markdown",
   "id": "c4f5308d",
   "metadata": {},
   "source": [
    "*Responda aqui*"
   ]
  },
  {
   "cell_type": "markdown",
   "id": "1639dc3d",
   "metadata": {},
   "source": [
    "\n",
    "## 3️⃣ Pré-processamento de Texto\n",
    "- Limpeza simples (lowercase).  \n",
    "- **TF-IDF** para transformar texto em vetores numéricos.  \n",
    "- **Split** treino/teste com estratificação.\n"
   ]
  },
  {
   "cell_type": "code",
   "execution_count": null,
   "id": "e7379c29",
   "metadata": {},
   "outputs": [],
   "source": [
    "\n",
    "import pandas as pd\n",
    "from sklearn.model_selection import train_test_split\n",
    "from sklearn.feature_extraction.text import TfidfVectorizer\n",
    "\n",
    "# Label -> binária (spam=1, ham=0)\n",
    "df['label_bin'] = (df['label'].str.lower().str.strip() == 'spam').astype(int)\n",
    "\n",
    "X_text = df['text'].astype(str)\n",
    "y = df['label_bin']\n",
    "\n",
    "X_train_text, X_test_text, y_train, y_test = train_test_split(\n",
    "    X_text, y, test_size=0.30, random_state=42, stratify=y\n",
    ")\n",
    "\n",
    "# Vetorização TF-IDF (limpeza básica embutida: lowercase=True)\n",
    "tfidf = TfidfVectorizer(lowercase=True, stop_words=None)  # pode testar stop_words='english'\n",
    "X_train = tfidf.fit_transform(X_train_text)\n",
    "X_test  = tfidf.transform(X_test_text)\n",
    "\n",
    "X_train.shape, X_test.shape, y_train.mean(), y_test.mean()\n"
   ]
  },
  {
   "cell_type": "markdown",
   "id": "0d7a3f3b",
   "metadata": {},
   "source": [
    "\n",
    "## 4️⃣ Modelos e Métricas\n",
    "Vamos comparar **Naive Bayes (MultinomialNB)** e **Regressão Logística**.\n",
    "\n",
    "**Métricas:**  \n",
    "- **Accuracy**: % de acertos.  \n",
    "- **Precision**: dos que o modelo chamou de *spam*, quantos eram *spam*.  \n",
    "- **Recall**: dos *spam* reais, quantos o modelo pegou.  \n",
    "- **F1**: equilíbrio entre precision e recall.  \n",
    "- **ROC-AUC**: quão bem o modelo separa classes variando o limiar.  \n",
    "- **RMSE (educacional)**: erro médio das **probabilidades** previstas vs rótulos (0/1).\n"
   ]
  },
  {
   "cell_type": "code",
   "execution_count": null,
   "id": "59997843",
   "metadata": {},
   "outputs": [],
   "source": [
    "\n",
    "from sklearn.naive_bayes import MultinomialNB\n",
    "from sklearn.linear_model import LogisticRegression\n",
    "from sklearn.metrics import (\n",
    "    accuracy_score, precision_score, recall_score, f1_score,\n",
    "    confusion_matrix, ConfusionMatrixDisplay, classification_report,\n",
    "    roc_auc_score, RocCurveDisplay\n",
    ")\n",
    "import numpy as np\n",
    "import matplotlib.pyplot as plt\n",
    "\n",
    "models = {\n",
    "    \"MultinomialNB\": MultinomialNB(),\n",
    "    \"LogReg\": LogisticRegression(max_iter=200, n_jobs=-1, random_state=42)\n",
    "}\n",
    "\n",
    "for name, model in models.items():\n",
    "    print(f\"\\n=== {name} ===\")\n",
    "    model.fit(X_train, y_train)\n",
    "    y_pred = model.predict(X_test)\n",
    "    print(classification_report(y_test, y_pred, digits=4))\n",
    "    cm = confusion_matrix(y_test, y_pred)\n",
    "    ConfusionMatrixDisplay(cm).plot()\n",
    "    plt.title(f\"{name} - Matriz de Confusão (Teste)\")\n",
    "    plt.show()\n",
    "\n",
    "    # Probabilidades para AUC e RMSE (se disponível)\n",
    "    if hasattr(model, \"predict_proba\"):\n",
    "        y_score = model.predict_proba(X_test)[:,1]\n",
    "    else:\n",
    "        # fallback para modelos sem predict_proba (não é o caso aqui)\n",
    "        y_score = None\n",
    "\n",
    "    if y_score is not None:\n",
    "        auc = roc_auc_score(y_test, y_score)\n",
    "        print(f\"ROC-AUC: {auc:.4f}\")\n",
    "        RocCurveDisplay.from_predictions(y_test, y_score)\n",
    "        plt.title(f\"{name} - Curva ROC (Teste)\")\n",
    "        plt.show()\n",
    "\n",
    "        # RMSE educacional (probabilidade vs rótulo)\n",
    "        rmse = np.sqrt(np.mean((y_score - y_test.values)**2))\n",
    "        print(f\"RMSE (probabilidade vs rótulo): {rmse:.4f}\")\n"
   ]
  },
  {
   "cell_type": "markdown",
   "id": "8be8a380",
   "metadata": {},
   "source": [
    "\n",
    "### 💬 Perguntas finais (responda em texto)\n",
    "1. Qual modelo apresentou melhor equilíbrio entre **precision** e **recall**?  \n",
    "2. Para um filtro de spam corporativo, você priorizaria **precision** ou **recall**? Explique.\n"
   ]
  },
  {
   "cell_type": "markdown",
   "id": "fb6b1f20",
   "metadata": {},
   "source": [
    "*Escreva aqui suas respostas*"
   ]
  },
  {
   "cell_type": "markdown",
   "id": "6b95c163",
   "metadata": {},
   "source": [
    "\n",
    "## 📝 Reflexão do Grupo (obrigatória)\n",
    "**Dificuldades encontradas:**  \n",
    "- ...\n",
    "\n",
    "**O que aprendemos:**  \n",
    "- ...\n",
    "\n",
    "**Como aplicar na TI (segurança, e-mail corporativo, antiphishing):**  \n",
    "- ...\n"
   ]
  }
 ],
 "metadata": {
  "colab": {
   "collapsed_sections": [],
   "name": "Deteccao_SPAM_SMS_ALUNO.ipynb",
   "provenance": []
  },
  "kernelspec": {
   "display_name": "Python 3",
   "language": "python",
   "name": "python3"
  }
 },
 "nbformat": 4,
 "nbformat_minor": 5
}
